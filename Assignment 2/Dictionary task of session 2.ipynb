{
 "cells": [
  {
   "cell_type": "code",
   "execution_count": 2,
   "metadata": {},
   "outputs": [
    {
     "name": "stdout",
     "output_type": "stream",
     "text": [
      "enter item: milk\n",
      "enter your quantity: 2\n",
      "4.0\n"
     ]
    }
   ],
   "source": [
    "x = input(\"enter item: \")\n",
    "y = float(input(\"enter your quantity: \"))\n",
    "\n",
    "dict={\"apple\":5, \"orange\":10, \"milk\":2}\n",
    "if x=='apple':\n",
    "    print(y * dict.get('apple'))\n",
    "elif x=='orange':\n",
    "    print(y * dict.get('orange'))\n",
    "elif x=='milk':\n",
    "    print(y * dict.get('milk')) \n",
    "else: \n",
    "    print('Item not found') "
   ]
  },
  {
   "cell_type": "code",
   "execution_count": null,
   "metadata": {},
   "outputs": [],
   "source": []
  }
 ],
 "metadata": {
  "kernelspec": {
   "display_name": "Python 3",
   "language": "python",
   "name": "python3"
  },
  "language_info": {
   "codemirror_mode": {
    "name": "ipython",
    "version": 3
   },
   "file_extension": ".py",
   "mimetype": "text/x-python",
   "name": "python",
   "nbconvert_exporter": "python",
   "pygments_lexer": "ipython3",
   "version": "3.7.6"
  }
 },
 "nbformat": 4,
 "nbformat_minor": 4
}
