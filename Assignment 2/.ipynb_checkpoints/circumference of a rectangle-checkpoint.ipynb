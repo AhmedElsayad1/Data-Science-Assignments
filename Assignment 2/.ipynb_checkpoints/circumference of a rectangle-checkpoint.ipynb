{
 "cells": [
  {
   "cell_type": "code",
   "execution_count": 4,
   "metadata": {},
   "outputs": [
    {
     "name": "stdout",
     "output_type": "stream",
     "text": [
      "Enter the length of the rectangle : 2\n",
      "Enter the width of the rectangle : 1\n",
      "The circumference of the rectangle is : 6.0\n"
     ]
    }
   ],
   "source": [
    "L = float(input('Enter the length of the rectangle : '))\n",
    "W = float(input('Enter the width of the rectangle : '))\n",
    "circumference = 2 * (L + W)\n",
    "print('The circumference of the rectangle is : ' + str(circumference))"
   ]
  },
  {
   "cell_type": "code",
   "execution_count": null,
   "metadata": {},
   "outputs": [],
   "source": []
  }
 ],
 "metadata": {
  "kernelspec": {
   "display_name": "Python 3",
   "language": "python",
   "name": "python3"
  },
  "language_info": {
   "codemirror_mode": {
    "name": "ipython",
    "version": 3
   },
   "file_extension": ".py",
   "mimetype": "text/x-python",
   "name": "python",
   "nbconvert_exporter": "python",
   "pygments_lexer": "ipython3",
   "version": "3.7.6"
  }
 },
 "nbformat": 4,
 "nbformat_minor": 4
}
