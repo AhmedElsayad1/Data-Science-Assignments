{
 "cells": [
  {
   "cell_type": "markdown",
   "metadata": {},
   "source": [
    "### 2.2) Solve the Python Files Task"
   ]
  },
  {
   "cell_type": "code",
   "execution_count": 84,
   "metadata": {},
   "outputs": [],
   "source": [
    "my_file = open('01-Python Data types/test.txt', 'w')\n",
    "my_file.write('Hello World \\n' *5)\n",
    "my_file.close()"
   ]
  },
  {
   "cell_type": "code",
   "execution_count": 85,
   "metadata": {},
   "outputs": [
    {
     "name": "stdout",
     "output_type": "stream",
     "text": [
      "Hello World \n",
      "Hello World \n",
      "Hello World \n",
      "Hello World \n",
      "Hello World \n",
      "\n"
     ]
    }
   ],
   "source": [
    "my_file = open('01-Python Data types/test.txt', 'r')\n",
    "print(my_file.read())\n",
    "my_file.close()\n"
   ]
  },
  {
   "cell_type": "code",
   "execution_count": 86,
   "metadata": {},
   "outputs": [],
   "source": [
    "my_file = open('01-Python Data types/test.txt', 'r+')\n",
    "x = my_file.read()\n",
    "z = x.upper()\n",
    "my_file.write (z)\n",
    "my_file.close()"
   ]
  },
  {
   "cell_type": "code",
   "execution_count": 87,
   "metadata": {},
   "outputs": [
    {
     "name": "stdout",
     "output_type": "stream",
     "text": [
      "Hello World \n",
      "\n",
      "HELLO WORLD \n",
      "\n"
     ]
    }
   ],
   "source": [
    "my_file = open('01-Python Data types/test.txt', 'r')\n",
    "x = my_file.readlines()\n",
    "print(x[3])\n",
    "x[3].upper()\n",
    "print(x[2].upper())\n",
    "my_file.close()"
   ]
  },
  {
   "cell_type": "code",
   "execution_count": 88,
   "metadata": {},
   "outputs": [],
   "source": [
    "with open('01-Python Data types/test.txt', 'a+') as my_file:\n",
    "    my_file.seek(0)\n",
    "    my_file.write('I Love python')\n",
    "    "
   ]
  },
  {
   "cell_type": "markdown",
   "metadata": {},
   "source": [
    "### The final shape of the file"
   ]
  },
  {
   "cell_type": "code",
   "execution_count": 89,
   "metadata": {},
   "outputs": [
    {
     "name": "stdout",
     "output_type": "stream",
     "text": [
      "Hello World \n",
      "Hello World \n",
      "Hello World \n",
      "Hello World \n",
      "Hello World \n",
      "HELLO WORLD \n",
      "HELLO WORLD \n",
      "HELLO WORLD \n",
      "HELLO WORLD \n",
      "HELLO WORLD \n",
      "I Love python\n"
     ]
    }
   ],
   "source": [
    "my_file = open('01-Python Data types/test.txt', 'r')\n",
    "print(my_file.read())\n",
    "my_file.close()"
   ]
  },
  {
   "cell_type": "code",
   "execution_count": null,
   "metadata": {},
   "outputs": [],
   "source": []
  }
 ],
 "metadata": {
  "kernelspec": {
   "display_name": "Python 3",
   "language": "python",
   "name": "python3"
  },
  "language_info": {
   "codemirror_mode": {
    "name": "ipython",
    "version": 3
   },
   "file_extension": ".py",
   "mimetype": "text/x-python",
   "name": "python",
   "nbconvert_exporter": "python",
   "pygments_lexer": "ipython3",
   "version": "3.7.6"
  }
 },
 "nbformat": 4,
 "nbformat_minor": 4
}
