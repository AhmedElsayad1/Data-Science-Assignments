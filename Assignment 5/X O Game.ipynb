{
 "cells": [
  {
   "cell_type": "code",
   "execution_count": 1,
   "metadata": {},
   "outputs": [],
   "source": [
    "# Hello ya handasa, I have a problem with (winner == None) it keeps printing every time and\n",
    "# I wanted to define it to handel the rest of the code\n",
    "\n",
    "def start_game():\n",
    "    while game_still_going:\n",
    "        game_board()\n",
    "        player_turn() \n",
    "        check_winner()\n",
    "        check_for_tie()\n",
    "      \n",
    "        if winner == 'X' or winner == 'O':\n",
    "            print(f'The winner is {winner}')\n",
    "            break\n",
    "        elif winner == None:\n",
    "            print(\"Tie.\")    \n",
    "            \n"
   ]
  },
  {
   "cell_type": "code",
   "execution_count": 2,
   "metadata": {},
   "outputs": [],
   "source": [
    "game_still_going = True\n",
    "\n",
    "board= ['*','*','*',\n",
    "        '*','*','*',\n",
    "        '*','*','*']\n",
    "def game_board():\n",
    "    print(\"\\n\")\n",
    "    print(board[0] + \" | \" + board[1] + \" | \" + board[2] )\n",
    "    print('---------')\n",
    "    print(board[3] + \" | \" + board[4] + \" | \" + board[5] )\n",
    "    print('---------')\n",
    "    print(board[6] + \" | \" + board[7] + \" | \" + board[8] )\n",
    "    print(\"\\n\")"
   ]
  },
  {
   "cell_type": "code",
   "execution_count": 3,
   "metadata": {},
   "outputs": [],
   "source": [
    "def player_turn():\n",
    "    letter = ''\n",
    "    while not (letter == 'X' or letter == 'O'):\n",
    "        print('X or O?')\n",
    "        letter = input().upper()\n",
    "        if letter == 'X':\n",
    "            print ('You are X')\n",
    "        if letter == 'O':\n",
    "            print ('You are O')\n",
    "    position = input('Choose your position from 1-9: ')\n",
    "    position = int(position) - 1 \n",
    "    \n",
    "    if board[position] == '*':\n",
    "        board[position] = letter\n",
    "    else:\n",
    "        print(\"You can't go there. Go again.\")  \n",
    "        player_turn()\n",
    "            \n",
    "    \n"
   ]
  },
  {
   "cell_type": "code",
   "execution_count": 4,
   "metadata": {},
   "outputs": [],
   "source": [
    "def check_winner():\n",
    "    global winner\n",
    "    row_winner = check_rows()\n",
    "    column_winner = check_columns()\n",
    "    diagonal_winner = check_diagonals()\n",
    "    if row_winner:\n",
    "        winner = row_winner\n",
    "    elif column_winner:\n",
    "        winner = column_winner\n",
    "    elif diagonal_winner:\n",
    "         winner = diagonal_winner\n",
    "    else:\n",
    "        winner = None"
   ]
  },
  {
   "cell_type": "code",
   "execution_count": 5,
   "metadata": {},
   "outputs": [],
   "source": [
    "def check_rows(): \n",
    "    global game_still_going\n",
    "    if board[0] == board[1] == board[2] != '*':\n",
    "        return board[0]\n",
    "    elif board[3] == board[4] == board[5] != '*':\n",
    "        return board[3]\n",
    "    elif board[6] == board[7] == board[8] != '*':\n",
    "        return board[6]\n",
    "\n"
   ]
  },
  {
   "cell_type": "code",
   "execution_count": 6,
   "metadata": {},
   "outputs": [],
   "source": [
    "def check_columns():\n",
    "    global game_still_going\n",
    "    if board[0] == board[3] == board[6] != '*':\n",
    "        return board[0]\n",
    "    elif board[1] == board[4] == board[7] != '*':\n",
    "        return board[1]\n",
    "    elif board[2] == board[5] == board[8] != '*':\n",
    "        return board[2]\n"
   ]
  },
  {
   "cell_type": "code",
   "execution_count": 7,
   "metadata": {},
   "outputs": [],
   "source": [
    "def check_diagonals():\n",
    "    global game_still_going \n",
    "    if board[0] == board[4] == board[8] != '*':\n",
    "        return board[0]\n",
    "    elif board[2] == board[4] == board[6] != '*':\n",
    "        return board[2]\n"
   ]
  },
  {
   "cell_type": "code",
   "execution_count": 8,
   "metadata": {},
   "outputs": [],
   "source": [
    "def check_for_tie():\n",
    "    global game_still_going\n",
    "    if '*' not in board:\n",
    "        game_still_going = False\n",
    "        return True\n",
    "    else:\n",
    "        return False"
   ]
  },
  {
   "cell_type": "code",
   "execution_count": null,
   "metadata": {},
   "outputs": [],
   "source": []
  },
  {
   "cell_type": "code",
   "execution_count": null,
   "metadata": {},
   "outputs": [
    {
     "name": "stdout",
     "output_type": "stream",
     "text": [
      "\n",
      "\n",
      "* | * | *\n",
      "---------\n",
      "* | * | *\n",
      "---------\n",
      "* | * | *\n",
      "\n",
      "\n",
      "X or O?\n",
      "x\n",
      "You are X\n",
      "Choose your position from 1-9: 2\n",
      "Tie.\n",
      "\n",
      "\n",
      "* | X | *\n",
      "---------\n",
      "* | * | *\n",
      "---------\n",
      "* | * | *\n",
      "\n",
      "\n",
      "X or O?\n",
      "o\n",
      "You are O\n",
      "Choose your position from 1-9: 2\n",
      "You can't go there. Go again.\n",
      "X or O?\n"
     ]
    }
   ],
   "source": [
    "start_game()"
   ]
  },
  {
   "cell_type": "code",
   "execution_count": null,
   "metadata": {},
   "outputs": [],
   "source": []
  },
  {
   "cell_type": "code",
   "execution_count": null,
   "metadata": {},
   "outputs": [],
   "source": []
  }
 ],
 "metadata": {
  "kernelspec": {
   "display_name": "Python 3",
   "language": "python",
   "name": "python3"
  },
  "language_info": {
   "codemirror_mode": {
    "name": "ipython",
    "version": 3
   },
   "file_extension": ".py",
   "mimetype": "text/x-python",
   "name": "python",
   "nbconvert_exporter": "python",
   "pygments_lexer": "ipython3",
   "version": "3.7.6"
  }
 },
 "nbformat": 4,
 "nbformat_minor": 4
}
