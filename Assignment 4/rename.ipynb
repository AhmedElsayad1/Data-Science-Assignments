{
 "cells": [
  {
   "cell_type": "code",
   "execution_count": 4,
   "metadata": {},
   "outputs": [
    {
     "data": {
      "text/plain": [
       "['aulwr.jpg',\n",
       " 'axfjp.jpg',\n",
       " 'bdiwj.jpg',\n",
       " 'bktby.jpg',\n",
       " 'bnofi.jpg',\n",
       " 'bsnqi.jpg',\n",
       " 'cqjtn.jpg',\n",
       " 'ctmmh.jpg',\n",
       " 'cuock.jpg',\n",
       " 'dlfuy.jpg',\n",
       " 'echfn.jpg',\n",
       " 'ekyfb.jpg',\n",
       " 'etupi.jpg',\n",
       " 'faocu.jpg',\n",
       " 'fpfrz.jpg',\n",
       " 'gaert.jpg',\n",
       " 'grnma.jpg',\n",
       " 'gtsro.jpg',\n",
       " 'hjwql.jpg',\n",
       " 'jcnbq.jpg',\n",
       " 'jiqdf.jpg',\n",
       " 'jomfx.jpg',\n",
       " 'jszyr.jpg',\n",
       " 'kohic.jpg',\n",
       " 'lilwo.jpg',\n",
       " 'lxoyk.jpg',\n",
       " 'nhnms.jpg',\n",
       " 'nihdu.jpg',\n",
       " 'nnzjr.jpg',\n",
       " 'nrzjf.jpg',\n",
       " 'nwxmh.jpg',\n",
       " 'opptm.jpg',\n",
       " 'ozzep.jpg',\n",
       " 'qehjj.jpg',\n",
       " 'qffli.jpg',\n",
       " 'rcuvb.jpg',\n",
       " 'sybvh.jpg',\n",
       " 'synre.jpg',\n",
       " 'thovk.jpg',\n",
       " 'ttznw.jpg',\n",
       " 'uugof.jpg',\n",
       " 'vafrx.jpg',\n",
       " 'vvrka.jpg',\n",
       " 'wakpn.jpg',\n",
       " 'weiwb.jpg',\n",
       " 'xdfvw.jpg',\n",
       " 'xyksl.jpg',\n",
       " 'ylpxf.jpg',\n",
       " 'zcmaj.jpg',\n",
       " 'zwgul.jpg']"
      ]
     },
     "execution_count": 4,
     "metadata": {},
     "output_type": "execute_result"
    }
   ],
   "source": [
    "import os\n",
    "import random\n",
    "import string\n",
    "os.listdir('Rename')\n"
   ]
  },
  {
   "cell_type": "code",
   "execution_count": 5,
   "metadata": {
    "scrolled": true
   },
   "outputs": [],
   "source": [
    "for elements in os.listdir('Rename'):\n",
    "    x=string.ascii_lowercase\n",
    "    z= random.choices(x, k=5)\n",
    "    os.rename(f'Rename/{elements}' ,f'Rename/{\"\".join(z)}.jpg')\n"
   ]
  },
  {
   "cell_type": "code",
   "execution_count": 6,
   "metadata": {},
   "outputs": [
    {
     "data": {
      "text/plain": [
       "['atinq.jpg',\n",
       " 'bnzpu.jpg',\n",
       " 'bohbj.jpg',\n",
       " 'cifcz.jpg',\n",
       " 'ciuil.jpg',\n",
       " 'cmejo.jpg',\n",
       " 'cnofk.jpg',\n",
       " 'dktfa.jpg',\n",
       " 'dlaes.jpg',\n",
       " 'eildh.jpg',\n",
       " 'ekvpg.jpg',\n",
       " 'emgxs.jpg',\n",
       " 'etuhy.jpg',\n",
       " 'flooy.jpg',\n",
       " 'fwjdc.jpg',\n",
       " 'hmgyl.jpg',\n",
       " 'hpksf.jpg',\n",
       " 'htpbm.jpg',\n",
       " 'idnez.jpg',\n",
       " 'inqqx.jpg',\n",
       " 'itpym.jpg',\n",
       " 'jkurv.jpg',\n",
       " 'kigta.jpg',\n",
       " 'kywgo.jpg',\n",
       " 'mawut.jpg',\n",
       " 'ncrnc.jpg',\n",
       " 'negqh.jpg',\n",
       " 'nqqfp.jpg',\n",
       " 'nsiuy.jpg',\n",
       " 'nuaha.jpg',\n",
       " 'nxxwx.jpg',\n",
       " 'oeiia.jpg',\n",
       " 'pmnvf.jpg',\n",
       " 'qetso.jpg',\n",
       " 'qxvgr.jpg',\n",
       " 'ravlc.jpg',\n",
       " 'riiwc.jpg',\n",
       " 'rjynn.jpg',\n",
       " 'shgss.jpg',\n",
       " 'upikz.jpg',\n",
       " 'uqqrq.jpg',\n",
       " 'urkrr.jpg',\n",
       " 'uzhjv.jpg',\n",
       " 'uzoep.jpg',\n",
       " 'vnsfo.jpg',\n",
       " 'xtndz.jpg',\n",
       " 'xuhin.jpg',\n",
       " 'ytrav.jpg',\n",
       " 'zoyye.jpg',\n",
       " 'zsjng.jpg']"
      ]
     },
     "execution_count": 6,
     "metadata": {},
     "output_type": "execute_result"
    }
   ],
   "source": [
    "os.listdir('Rename')\n"
   ]
  },
  {
   "cell_type": "code",
   "execution_count": null,
   "metadata": {},
   "outputs": [],
   "source": []
  }
 ],
 "metadata": {
  "kernelspec": {
   "display_name": "Python 3",
   "language": "python",
   "name": "python3"
  },
  "language_info": {
   "codemirror_mode": {
    "name": "ipython",
    "version": 3
   },
   "file_extension": ".py",
   "mimetype": "text/x-python",
   "name": "python",
   "nbconvert_exporter": "python",
   "pygments_lexer": "ipython3",
   "version": "3.7.6"
  }
 },
 "nbformat": 4,
 "nbformat_minor": 4
}
